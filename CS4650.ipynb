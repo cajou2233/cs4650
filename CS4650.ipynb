{
  "nbformat": 4,
  "nbformat_minor": 0,
  "metadata": {
    "colab": {
      "name": "CS4650.ipynb",
      "provenance": [],
      "collapsed_sections": [],
      "toc_visible": true,
      "authorship_tag": "ABX9TyMl4US2tbwTtc65eh7x7+zh",
      "include_colab_link": true
    },
    "kernelspec": {
      "name": "python3",
      "display_name": "Python 3"
    },
    "language_info": {
      "name": "python"
    }
  },
  "cells": [
    {
      "cell_type": "markdown",
      "metadata": {
        "id": "view-in-github",
        "colab_type": "text"
      },
      "source": [
        "<a href=\"https://colab.research.google.com/github/cajou2233/cs4650/blob/master/CS4650.ipynb\" target=\"_parent\"><img src=\"https://colab.research.google.com/assets/colab-badge.svg\" alt=\"Open In Colab\"/></a>"
      ]
    },
    {
      "cell_type": "code",
      "metadata": {
        "id": "7T_YB1lRvjGM"
      },
      "source": [
        "!pip install spacy\n",
        "!pip install newsapi-python\n",
        "!pip install Pandas\n",
        "\n",
        "!python -m spacy download en_core_web_lg"
      ],
      "execution_count": null,
      "outputs": []
    },
    {
      "cell_type": "code",
      "metadata": {
        "id": "xZIVFXAowlWi"
      },
      "source": [
        "import spacy\n",
        "import newsapi\n",
        "import pandas as pd\n",
        "\n",
        "nlp_eng = spacy.load('en_core_web_sm')\n",
        "newsapi = newsapi.NewsApiClient (api_key='351bb36c88fd4d0ea61a99bacba42e49')"
      ],
      "execution_count": 20,
      "outputs": []
    },
    {
      "cell_type": "code",
      "metadata": {
        "id": "3ch338DAwrdj"
      },
      "source": [
        "articles = newsapi.get_everything(q='coronavirus', language='en', from_param='2021-02-25', to='2021-03-10', sort_by='relevancy')\n",
        "article=articles[\"articles\"]"
      ],
      "execution_count": 22,
      "outputs": []
    },
    {
      "cell_type": "code",
      "metadata": {
        "colab": {
          "base_uri": "https://localhost:8080/",
          "height": 289
        },
        "id": "v7i0hG1Cwu34",
        "outputId": "0f65845d-4ec6-4183-821c-ff0825d5569b"
      },
      "source": [
        "dados=[]\n",
        "for x in article:\n",
        "  dados.append({'title':x[\"title\"],'data':x['publishedAt'],'desc':x['description'],'content':x['content']})\n",
        "df = pd.DataFrame(dados)\n",
        "df.head()"
      ],
      "execution_count": 23,
      "outputs": [
        {
          "output_type": "execute_result",
          "data": {
            "text/html": [
              "<div>\n",
              "<style scoped>\n",
              "    .dataframe tbody tr th:only-of-type {\n",
              "        vertical-align: middle;\n",
              "    }\n",
              "\n",
              "    .dataframe tbody tr th {\n",
              "        vertical-align: top;\n",
              "    }\n",
              "\n",
              "    .dataframe thead th {\n",
              "        text-align: right;\n",
              "    }\n",
              "</style>\n",
              "<table border=\"1\" class=\"dataframe\">\n",
              "  <thead>\n",
              "    <tr style=\"text-align: right;\">\n",
              "      <th></th>\n",
              "      <th>title</th>\n",
              "      <th>data</th>\n",
              "      <th>desc</th>\n",
              "      <th>content</th>\n",
              "    </tr>\n",
              "  </thead>\n",
              "  <tbody>\n",
              "    <tr>\n",
              "      <th>0</th>\n",
              "      <td>Coronavirus Briefing: What Happened Today</td>\n",
              "      <td>2021-03-09T23:04:24Z</td>\n",
              "      <td>People with underlying conditions are begging ...</td>\n",
              "      <td>But medical ethicists say the list is misleadi...</td>\n",
              "    </tr>\n",
              "    <tr>\n",
              "      <th>1</th>\n",
              "      <td>Coronavirus Briefing: What Happened Today</td>\n",
              "      <td>2021-03-10T23:21:20Z</td>\n",
              "      <td>What the $1.9 trillion coronavirus relief plan...</td>\n",
              "      <td>Community health centers, which Abby said act ...</td>\n",
              "    </tr>\n",
              "    <tr>\n",
              "      <th>2</th>\n",
              "      <td>Coronavirus Briefing: What Happened Today</td>\n",
              "      <td>2021-03-06T16:10:01Z</td>\n",
              "      <td>The next major flash point in the pandemic cou...</td>\n",
              "      <td>During the summer, as some areas of the countr...</td>\n",
              "    </tr>\n",
              "    <tr>\n",
              "      <th>3</th>\n",
              "      <td>Assessing Claims in the Coronavirus Stimulus D...</td>\n",
              "      <td>2021-02-27T10:00:11Z</td>\n",
              "      <td>Lawmakers have made an array of misleading cla...</td>\n",
              "      <td>A spokeswoman for the House transportation com...</td>\n",
              "    </tr>\n",
              "    <tr>\n",
              "      <th>4</th>\n",
              "      <td>Coronavirus Testing Slumps in the U.S.</td>\n",
              "      <td>2021-03-01T10:29:50Z</td>\n",
              "      <td>Medical experts cited various factors behind t...</td>\n",
              "      <td>LiveUpdated March 1, 2021, 5:10 a.m. ET\\r\\nMar...</td>\n",
              "    </tr>\n",
              "  </tbody>\n",
              "</table>\n",
              "</div>"
            ],
            "text/plain": [
              "                                               title  ...                                            content\n",
              "0          Coronavirus Briefing: What Happened Today  ...  But medical ethicists say the list is misleadi...\n",
              "1          Coronavirus Briefing: What Happened Today  ...  Community health centers, which Abby said act ...\n",
              "2          Coronavirus Briefing: What Happened Today  ...  During the summer, as some areas of the countr...\n",
              "3  Assessing Claims in the Coronavirus Stimulus D...  ...  A spokeswoman for the House transportation com...\n",
              "4             Coronavirus Testing Slumps in the U.S.  ...  LiveUpdated March 1, 2021, 5:10 a.m. ET\\r\\nMar...\n",
              "\n",
              "[5 rows x 4 columns]"
            ]
          },
          "metadata": {
            "tags": []
          },
          "execution_count": 23
        }
      ]
    },
    {
      "cell_type": "code",
      "metadata": {
        "id": "II70onxcwx1W"
      },
      "source": [
        "pos_tag=[\"VERB\",\"NOUN\",\"PRON\"]\n",
        "def compor(e):return e['count']\n",
        "\n",
        "for a in article:\n",
        "  keyword=[]\n",
        "  common={}\n",
        "  doc=nlp_eng(str(a[\"title\"]) + str(a[\"content\"]) + str(a[\"description\"]))\n",
        "  for token in doc:\n",
        "    if (token.text in nlp_eng.Defaults.stop_words):\n",
        "      continue\n",
        "    if (token.pos_ in pos_tag):\n",
        "      keyword.append(token.text)\n",
        "  for i in keyword:\n",
        "   if i in common:\n",
        "     common[i] += 1\n",
        "   else:\n",
        "    common[i] = 1\n",
        "  \n",
        "  col = []\n",
        "  for x,y in common.items():\n",
        "    col.append({\"text\":x,\"count\":y})\n",
        "  col.sort(reverse=True,key=compor)\n",
        "  \n",
        "  a[\"top_words\"] = \"\"\n",
        "  for x in range(5):\n",
        "    a[\"top_words\"] += col[x][\"text\"] + \", \""
      ],
      "execution_count": 24,
      "outputs": []
    },
    {
      "cell_type": "code",
      "metadata": {
        "colab": {
          "base_uri": "https://localhost:8080/",
          "height": 1000
        },
        "id": "WBgTvqUow3lF",
        "outputId": "d5ff0fa9-3fe9-4222-8212-ff8570a47d17"
      },
      "source": [
        "result=[]\n",
        "for x in article:\n",
        "  result.append({'title':x[\"title\"],'data':x['publishedAt'],'desc':x['description'],'content':x['content'],'top_5':x['top_words']})\n",
        "df = pd.DataFrame(result)\n",
        "df"
      ],
      "execution_count": 25,
      "outputs": [
        {
          "output_type": "execute_result",
          "data": {
            "text/html": [
              "<div>\n",
              "<style scoped>\n",
              "    .dataframe tbody tr th:only-of-type {\n",
              "        vertical-align: middle;\n",
              "    }\n",
              "\n",
              "    .dataframe tbody tr th {\n",
              "        vertical-align: top;\n",
              "    }\n",
              "\n",
              "    .dataframe thead th {\n",
              "        text-align: right;\n",
              "    }\n",
              "</style>\n",
              "<table border=\"1\" class=\"dataframe\">\n",
              "  <thead>\n",
              "    <tr style=\"text-align: right;\">\n",
              "      <th></th>\n",
              "      <th>title</th>\n",
              "      <th>data</th>\n",
              "      <th>desc</th>\n",
              "      <th>content</th>\n",
              "      <th>top_5</th>\n",
              "    </tr>\n",
              "  </thead>\n",
              "  <tbody>\n",
              "    <tr>\n",
              "      <th>0</th>\n",
              "      <td>Coronavirus Briefing: What Happened Today</td>\n",
              "      <td>2021-03-09T23:04:24Z</td>\n",
              "      <td>People with underlying conditions are begging ...</td>\n",
              "      <td>But medical ethicists say the list is misleadi...</td>\n",
              "      <td>list, conditions, What, Happened, ethicists,</td>\n",
              "    </tr>\n",
              "    <tr>\n",
              "      <th>1</th>\n",
              "      <td>Coronavirus Briefing: What Happened Today</td>\n",
              "      <td>2021-03-10T23:21:20Z</td>\n",
              "      <td>What the $1.9 trillion coronavirus relief plan...</td>\n",
              "      <td>Community health centers, which Abby said act ...</td>\n",
              "      <td>health, What, Happened, centers, said,</td>\n",
              "    </tr>\n",
              "    <tr>\n",
              "      <th>2</th>\n",
              "      <td>Coronavirus Briefing: What Happened Today</td>\n",
              "      <td>2021-03-06T16:10:01Z</td>\n",
              "      <td>The next major flash point in the pandemic cou...</td>\n",
              "      <td>During the summer, as some areas of the countr...</td>\n",
              "      <td>What, Happened, summer, areas, country,</td>\n",
              "    </tr>\n",
              "    <tr>\n",
              "      <th>3</th>\n",
              "      <td>Assessing Claims in the Coronavirus Stimulus D...</td>\n",
              "      <td>2021-02-27T10:00:11Z</td>\n",
              "      <td>Lawmakers have made an array of misleading cla...</td>\n",
              "      <td>A spokeswoman for the House transportation com...</td>\n",
              "      <td>receiving, funding, Assessing, Claims, DebateA,</td>\n",
              "    </tr>\n",
              "    <tr>\n",
              "      <th>4</th>\n",
              "      <td>Coronavirus Testing Slumps in the U.S.</td>\n",
              "      <td>2021-03-01T10:29:50Z</td>\n",
              "      <td>Medical experts cited various factors behind t...</td>\n",
              "      <td>LiveUpdated March 1, 2021, 5:10 a.m. ET\\r\\nMar...</td>\n",
              "      <td>a.m., experts, cited, factors, percent,</td>\n",
              "    </tr>\n",
              "    <tr>\n",
              "      <th>5</th>\n",
              "      <td>Coronavirus: Paraguay president asks ministers...</td>\n",
              "      <td>2021-03-06T23:07:30Z</td>\n",
              "      <td>Violent protests have broken out over the gove...</td>\n",
              "      <td>image captionAnti-government anger exploded in...</td>\n",
              "      <td>government, president, ministers, protests, as...</td>\n",
              "    </tr>\n",
              "    <tr>\n",
              "      <th>6</th>\n",
              "      <td>Experts warn of coronavirus superspreader spike</td>\n",
              "      <td>2021-03-07T23:51:42Z</td>\n",
              "      <td>CNN's Natasha Chen says officials across the U...</td>\n",
              "      <td>None</td>\n",
              "      <td>superspreader, Experts, warn, says, officials,</td>\n",
              "    </tr>\n",
              "    <tr>\n",
              "      <th>7</th>\n",
              "      <td>Coronavirus Vaccine Finder Aims to Help Americ...</td>\n",
              "      <td>2021-02-25T01:53:17Z</td>\n",
              "      <td>VaccineFinder.org is an ambitious but limited ...</td>\n",
              "      <td>Despite the progress, though, getting appointm...</td>\n",
              "      <td>Help, progress, getting, appointments, vaccina...</td>\n",
              "    </tr>\n",
              "    <tr>\n",
              "      <th>8</th>\n",
              "      <td>Thousands of Farmworkers Are Prioritized for t...</td>\n",
              "      <td>2021-03-01T08:00:09Z</td>\n",
              "      <td>A landmark initiative in California is taking ...</td>\n",
              "      <td>Rosa Torres, who packs dates, said she never i...</td>\n",
              "      <td>said, Thousands, Farmworkers, Prioritized, pac...</td>\n",
              "    </tr>\n",
              "    <tr>\n",
              "      <th>9</th>\n",
              "      <td>D.C.’s Mayor Mourned Covid’s Unequal Toll. Her...</td>\n",
              "      <td>2021-02-26T00:47:27Z</td>\n",
              "      <td>As the number of coronavirus deaths in the cit...</td>\n",
              "      <td>Ms. Bowser never had children of her own, but ...</td>\n",
              "      <td>Victim, Ms, children, considered, godmother,</td>\n",
              "    </tr>\n",
              "    <tr>\n",
              "      <th>10</th>\n",
              "      <td>Coronavirus: Biden's $1.9tn Covid relief bill ...</td>\n",
              "      <td>2021-02-27T07:31:35Z</td>\n",
              "      <td>The coronavirus aid plan passes despite total ...</td>\n",
              "      <td>image copyrightGetty Images\\r\\nimage captionDe...</td>\n",
              "      <td>relief, passes, bill, voteimage, Images,</td>\n",
              "    </tr>\n",
              "    <tr>\n",
              "      <th>11</th>\n",
              "      <td>Covid-19: Dolly Parton marks vaccination with ...</td>\n",
              "      <td>2021-03-03T04:49:01Z</td>\n",
              "      <td>Singing to the tune of her hit song Jolene, th...</td>\n",
              "      <td>image captionDolly Parton was vaccinated with ...</td>\n",
              "      <td>star, marks, vaccination, rewriteimage, vaccin...</td>\n",
              "    </tr>\n",
              "    <tr>\n",
              "      <th>12</th>\n",
              "      <td>Stimulus, Coronavirus Variants, Pope Francis: ...</td>\n",
              "      <td>2021-03-07T11:18:33Z</td>\n",
              "      <td>Here’s what you need to know about the week’s ...</td>\n",
              "      <td>5. Jury selection is set to begin on Monday in...</td>\n",
              "      <td>Weekend, Jury, selection, set, begin,</td>\n",
              "    </tr>\n",
              "    <tr>\n",
              "      <th>13</th>\n",
              "      <td>N.B.A. Investigating After Jeremy Lin Said He ...</td>\n",
              "      <td>2021-02-27T05:05:08Z</td>\n",
              "      <td>Lin, who is Taiwanese-American, said on social...</td>\n",
              "      <td>The investigation came amid a rise in attacks ...</td>\n",
              "      <td>He, Said, Called, investigation, came,</td>\n",
              "    </tr>\n",
              "    <tr>\n",
              "      <th>14</th>\n",
              "      <td>Coronavirus Variant Found in Brazil Can Cause ...</td>\n",
              "      <td>2021-03-02T10:59:24Z</td>\n",
              "      <td>Some who had immunity from previous bouts of t...</td>\n",
              "      <td>LiveUpdated March 2, 2021, 5:39 a.m. ET\\r\\nMar...</td>\n",
              "      <td>a.m., immunity, bouts, coronavirus, contracted,</td>\n",
              "    </tr>\n",
              "    <tr>\n",
              "      <th>15</th>\n",
              "      <td>Positive Coronavirus Tests Decline in N.Y., bu...</td>\n",
              "      <td>2021-02-26T10:40:56Z</td>\n",
              "      <td>The number of people testing positive is dropp...</td>\n",
              "      <td>Only use this if you absolutely must, she said...</td>\n",
              "      <td>I, use, said, slipped, coin,</td>\n",
              "    </tr>\n",
              "    <tr>\n",
              "      <th>16</th>\n",
              "      <td>Pope Francis' Iraq Trip Ends, but Coronavirus ...</td>\n",
              "      <td>2021-03-07T20:41:02Z</td>\n",
              "      <td>Crowds gathered over Francis’ three-day visit,...</td>\n",
              "      <td>The virus is far more easily transmitted indoo...</td>\n",
              "      <td>virus, transmitted, indoors, believe, transmis...</td>\n",
              "    </tr>\n",
              "    <tr>\n",
              "      <th>17</th>\n",
              "      <td>Kate McKinnon plays Dr. Fauci on 'SNL'</td>\n",
              "      <td>2021-02-28T08:55:47Z</td>\n",
              "      <td>SNL's Kate McKinnon as Dr. Anthony Fauci, help...</td>\n",
              "      <td>None</td>\n",
              "      <td>plays, SNL'NoneSNL, helping, trying, vaccine,</td>\n",
              "    </tr>\n",
              "    <tr>\n",
              "      <th>18</th>\n",
              "      <td>Coronavirus: The misleading claims about an In...</td>\n",
              "      <td>2021-03-01T00:44:01Z</td>\n",
              "      <td>A traditional herbal remedy said to \"cure\" Cov...</td>\n",
              "      <td>By Shruti MenonBBC Reality Check\\r\\nimage capt...</td>\n",
              "      <td>misleading, claims, remedyBy, Reality, Check,</td>\n",
              "    </tr>\n",
              "    <tr>\n",
              "      <th>19</th>\n",
              "      <td>When Did the Pandemic Become Real for You?</td>\n",
              "      <td>2021-03-02T23:11:43Z</td>\n",
              "      <td>The World Health Organization declared the spr...</td>\n",
              "      <td>A year ago, the United States counted its firs...</td>\n",
              "      <td>life, Become, year, counted, known,</td>\n",
              "    </tr>\n",
              "  </tbody>\n",
              "</table>\n",
              "</div>"
            ],
            "text/plain": [
              "                                                title  ...                                              top_5\n",
              "0           Coronavirus Briefing: What Happened Today  ...      list, conditions, What, Happened, ethicists, \n",
              "1           Coronavirus Briefing: What Happened Today  ...            health, What, Happened, centers, said, \n",
              "2           Coronavirus Briefing: What Happened Today  ...           What, Happened, summer, areas, country, \n",
              "3   Assessing Claims in the Coronavirus Stimulus D...  ...   receiving, funding, Assessing, Claims, DebateA, \n",
              "4              Coronavirus Testing Slumps in the U.S.  ...           a.m., experts, cited, factors, percent, \n",
              "5   Coronavirus: Paraguay president asks ministers...  ...  government, president, ministers, protests, as...\n",
              "6     Experts warn of coronavirus superspreader spike  ...    superspreader, Experts, warn, says, officials, \n",
              "7   Coronavirus Vaccine Finder Aims to Help Americ...  ...  Help, progress, getting, appointments, vaccina...\n",
              "8   Thousands of Farmworkers Are Prioritized for t...  ...  said, Thousands, Farmworkers, Prioritized, pac...\n",
              "9   D.C.’s Mayor Mourned Covid’s Unequal Toll. Her...  ...      Victim, Ms, children, considered, godmother, \n",
              "10  Coronavirus: Biden's $1.9tn Covid relief bill ...  ...          relief, passes, bill, voteimage, Images, \n",
              "11  Covid-19: Dolly Parton marks vaccination with ...  ...  star, marks, vaccination, rewriteimage, vaccin...\n",
              "12  Stimulus, Coronavirus Variants, Pope Francis: ...  ...             Weekend, Jury, selection, set, begin, \n",
              "13  N.B.A. Investigating After Jeremy Lin Said He ...  ...            He, Said, Called, investigation, came, \n",
              "14  Coronavirus Variant Found in Brazil Can Cause ...  ...   a.m., immunity, bouts, coronavirus, contracted, \n",
              "15  Positive Coronavirus Tests Decline in N.Y., bu...  ...                      I, use, said, slipped, coin, \n",
              "16  Pope Francis' Iraq Trip Ends, but Coronavirus ...  ...  virus, transmitted, indoors, believe, transmis...\n",
              "17             Kate McKinnon plays Dr. Fauci on 'SNL'  ...     plays, SNL'NoneSNL, helping, trying, vaccine, \n",
              "18  Coronavirus: The misleading claims about an In...  ...     misleading, claims, remedyBy, Reality, Check, \n",
              "19         When Did the Pandemic Become Real for You?  ...               life, Become, year, counted, known, \n",
              "\n",
              "[20 rows x 5 columns]"
            ]
          },
          "metadata": {
            "tags": []
          },
          "execution_count": 25
        }
      ]
    },
    {
      "cell_type": "code",
      "metadata": {
        "id": "0Pc7osmbH_HU"
      },
      "source": [
        "df.to_csv(path_or_buf=\"4650_covid.csv\")"
      ],
      "execution_count": 38,
      "outputs": []
    },
    {
      "cell_type": "code",
      "metadata": {
        "colab": {
          "base_uri": "https://localhost:8080/",
          "height": 35
        },
        "id": "_UvYTZDrijWt",
        "outputId": "ce311c3d-8dcd-4793-d275-c8a75bca062e"
      },
      "source": [
        "import os\n",
        "os.getcwd() "
      ],
      "execution_count": 37,
      "outputs": [
        {
          "output_type": "execute_result",
          "data": {
            "application/vnd.google.colaboratory.intrinsic+json": {
              "type": "string"
            },
            "text/plain": [
              "'/content'"
            ]
          },
          "metadata": {
            "tags": []
          },
          "execution_count": 37
        }
      ]
    }
  ]
}